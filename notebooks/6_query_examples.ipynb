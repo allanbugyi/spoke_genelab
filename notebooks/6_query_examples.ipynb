{
 "cells": [
  {
   "cell_type": "code",
   "execution_count": 1,
   "id": "e013a1f1-074b-4f6c-885f-b12c2331a908",
   "metadata": {},
   "outputs": [],
   "source": [
    "import os\n",
    "from py2neo import Graph\n",
    "import genelab_utils as gl\n",
    "import neo4j_utils"
   ]
  },
  {
   "cell_type": "markdown",
   "id": "c8fa1beb-9ad3-4401-9687-459347bcd1a6",
   "metadata": {},
   "source": [
    "## Setup Environment Variables\n",
    "To update the environment, update the \"../.env\" file."
   ]
  },
  {
   "cell_type": "code",
   "execution_count": 2,
   "id": "af9b013a-f678-4c11-ba38-d38256cde80a",
   "metadata": {},
   "outputs": [
    {
     "name": "stdout",
     "output_type": "stream",
     "text": [
      "Environment setup for KG version: v0.0.3\n"
     ]
    }
   ],
   "source": [
    "# Node and relationship directory paths\n",
    "node_dir, rel_dir = gl.setup_environment()"
   ]
  },
  {
   "cell_type": "markdown",
   "id": "2de6fd74-7537-4189-959c-76045ca51c8f",
   "metadata": {},
   "source": [
    "### Connect to the local Neo4j Graph database"
   ]
  },
  {
   "cell_type": "code",
   "execution_count": 3,
   "id": "6b12f366-7d87-4ae9-98f3-81707e4e0801",
   "metadata": {},
   "outputs": [],
   "source": [
    "database = os.environ.get(\"NEO4J_DATABASE\")\n",
    "username = os.environ.get(\"NEO4J_USERNAME\")\n",
    "password = os.environ.get(\"NEO4J_PASSWORD\")\n",
    "stylesheet = os.environ.get(\"NEO4J_STYLESHEET\")\n",
    "\n",
    "graph = Graph(\"bolt://localhost:7687\", name=database, user=username, password=password)"
   ]
  },
  {
   "cell_type": "markdown",
   "id": "02e832c8-a9c2-4376-98be-79d6486f664e",
   "metadata": {},
   "source": [
    "## Gene Methylation vs Downregulation\n",
    "This query finds examples where a gene is differentially hypermethylated in the promoter region and downregulated for a Ground Control vs. Space Flight comparison."
   ]
  },
  {
   "cell_type": "code",
   "execution_count": 4,
   "id": "9e643f34-8cd5-4aa0-be26-76f6b33a8b64",
   "metadata": {},
   "outputs": [],
   "source": [
    "query = \"\"\"\n",
    "MATCH p = (m:Mission)-->(s1:Study)-->(a1:Assay)-[m1]->(y:MethylationRegion)\n",
    "           <--(g:MGene)<-[m2]-(a2:Assay)<--(s2:Study)\n",
    "WHERE s1 = s2 // within the same study\n",
    "  AND \"Ground Control\" IN a1.factors_1 // Ground Control vs. Space Flight comparisions\n",
    "  AND \"Space Flight\" IN a1.factors_2\n",
    "  AND \"Ground Control\" IN a2.factors_1\n",
    "  AND \"Space Flight\" IN a2.factors_2\n",
    "  AND y.in_promoter = true // Methylated in the promoter region\n",
    "  AND m1.methylation_diff > 0 // positive difference in methylation\n",
    "  AND m2.log2fc < 0 // downregulated gene\n",
    "RETURN p\n",
    "\"\"\"\n",
    "\n",
    "subgraph1 = graph.run(query).to_subgraph()"
   ]
  },
  {
   "cell_type": "code",
   "execution_count": 8,
   "id": "b82f01a3-d337-45c8-af3e-6a06da8005ce",
   "metadata": {},
   "outputs": [
    {
     "data": {
      "application/vnd.jupyter.widget-view+json": {
       "model_id": "90693c6c4bce4537bf025eb1aa3830e3",
       "version_major": 2,
       "version_minor": 0
      },
      "text/plain": [
       "CytoscapeWidget(cytoscape_layout={'name': 'cola', 'padding': 0, 'nodeSpacing': 65, 'nodeDimensionsIncludeLabel…"
      ]
     },
     "execution_count": 8,
     "metadata": {},
     "output_type": "execute_result"
    }
   ],
   "source": [
    "# Rerun this cell again if the layout doesn't look good\n",
    "# Use the mouse to drag and zoom, or move nodes\n",
    "# Click on a node to display the node properties\n",
    "widget1 = neo4j_utils.draw_graph(subgraph1, stylesheet)\n",
    "widget1.layout.height = \"1014px\"\n",
    "widget1.set_layout(name=\"cola\", padding=00, nodeSpacing=65, nodeDimensionsIncludeLabels=True, unconstrIter=15000)\n",
    "widget1"
   ]
  },
  {
   "cell_type": "markdown",
   "id": "ed6a8fb8-815e-477b-bb8a-716537e7fbd4",
   "metadata": {},
   "source": [
    "Open a static image of thisgraph visualization for [OSD-105](../docs/osd-105_omics.png)"
   ]
  },
  {
   "cell_type": "markdown",
   "id": "2a113d05-4c68-43b9-92a4-0c68c658059d",
   "metadata": {},
   "source": [
    "## Comparision of Gene Methylation vs. Gene Expression\n",
    "Here we compare the change in methylation (methylation_diff in %) in the promoter region with the change the log2 fold change in expression (log2fc) for Ground Control vs. Space Flight samples in mice.\n",
    "\n",
    "While there is no correlation, it's interesting to note that Fibroblast growth factor receptor 3 (FGFR3) is a top hit. It is among other functions involved in the regulation of osteogenesis and postnatal bone mineralization by osteoblasts (see: https://www.uniprot.org/uniprotkb/Q61851/entry). The promoter hypermethylation of FGFR3 may contribute to its transcriptional repression in spaceflown mice."
   ]
  },
  {
   "cell_type": "code",
   "execution_count": 6,
   "id": "f257106a-6686-4625-81a5-fd72c7933b82",
   "metadata": {},
   "outputs": [
    {
     "data": {
      "text/html": [
       "<div>\n",
       "<style scoped>\n",
       "    .dataframe tbody tr th:only-of-type {\n",
       "        vertical-align: middle;\n",
       "    }\n",
       "\n",
       "    .dataframe tbody tr th {\n",
       "        vertical-align: top;\n",
       "    }\n",
       "\n",
       "    .dataframe thead th {\n",
       "        text-align: right;\n",
       "    }\n",
       "</style>\n",
       "<table border=\"1\" class=\"dataframe\">\n",
       "  <thead>\n",
       "    <tr style=\"text-align: right;\">\n",
       "      <th></th>\n",
       "      <th>methylation_diff</th>\n",
       "      <th>log2fc</th>\n",
       "      <th>gene</th>\n",
       "      <th>organism</th>\n",
       "      <th>anatomy</th>\n",
       "      <th>study</th>\n",
       "    </tr>\n",
       "  </thead>\n",
       "  <tbody>\n",
       "    <tr>\n",
       "      <th>0</th>\n",
       "      <td>17.701717</td>\n",
       "      <td>-0.643865</td>\n",
       "      <td>fibroblast growth factor receptor 3</td>\n",
       "      <td>Mus musculus</td>\n",
       "      <td>tibialis anterior</td>\n",
       "      <td>OSD-105</td>\n",
       "    </tr>\n",
       "    <tr>\n",
       "      <th>1</th>\n",
       "      <td>11.834080</td>\n",
       "      <td>0.190048</td>\n",
       "      <td>dystrophia myotonica-protein kinase</td>\n",
       "      <td>Mus musculus</td>\n",
       "      <td>tibialis anterior</td>\n",
       "      <td>OSD-105</td>\n",
       "    </tr>\n",
       "    <tr>\n",
       "      <th>2</th>\n",
       "      <td>6.466081</td>\n",
       "      <td>-0.342864</td>\n",
       "      <td>progestin and adipoQ receptor family member IX</td>\n",
       "      <td>Mus musculus</td>\n",
       "      <td>tibialis anterior</td>\n",
       "      <td>OSD-105</td>\n",
       "    </tr>\n",
       "    <tr>\n",
       "      <th>3</th>\n",
       "      <td>1.819836</td>\n",
       "      <td>0.265232</td>\n",
       "      <td>insulin degrading enzyme</td>\n",
       "      <td>Mus musculus</td>\n",
       "      <td>tibialis anterior</td>\n",
       "      <td>OSD-105</td>\n",
       "    </tr>\n",
       "    <tr>\n",
       "      <th>4</th>\n",
       "      <td>-1.691213</td>\n",
       "      <td>0.203576</td>\n",
       "      <td>NADH dehydrogenase subunit 2</td>\n",
       "      <td>Mus musculus</td>\n",
       "      <td>tibialis anterior</td>\n",
       "      <td>OSD-105</td>\n",
       "    </tr>\n",
       "    <tr>\n",
       "      <th>5</th>\n",
       "      <td>-2.594896</td>\n",
       "      <td>-0.286396</td>\n",
       "      <td>phosphate cytidylyltransferase 2, ethanolamine</td>\n",
       "      <td>Mus musculus</td>\n",
       "      <td>tibialis anterior</td>\n",
       "      <td>OSD-105</td>\n",
       "    </tr>\n",
       "    <tr>\n",
       "      <th>6</th>\n",
       "      <td>-4.385965</td>\n",
       "      <td>-0.577865</td>\n",
       "      <td>docking protein 5</td>\n",
       "      <td>Mus musculus</td>\n",
       "      <td>tibialis anterior</td>\n",
       "      <td>OSD-105</td>\n",
       "    </tr>\n",
       "    <tr>\n",
       "      <th>7</th>\n",
       "      <td>-6.217617</td>\n",
       "      <td>-0.152480</td>\n",
       "      <td>2-aminoethanethiol (cysteamine) dioxygenase</td>\n",
       "      <td>Mus musculus</td>\n",
       "      <td>tibialis anterior</td>\n",
       "      <td>OSD-105</td>\n",
       "    </tr>\n",
       "    <tr>\n",
       "      <th>8</th>\n",
       "      <td>-7.277940</td>\n",
       "      <td>0.403671</td>\n",
       "      <td>H19, imprinted maternally expressed transcript</td>\n",
       "      <td>Mus musculus</td>\n",
       "      <td>tibialis anterior</td>\n",
       "      <td>OSD-105</td>\n",
       "    </tr>\n",
       "    <tr>\n",
       "      <th>9</th>\n",
       "      <td>-14.498471</td>\n",
       "      <td>1.354894</td>\n",
       "      <td>transmembrane protein 254</td>\n",
       "      <td>Mus musculus</td>\n",
       "      <td>tibialis anterior</td>\n",
       "      <td>OSD-105</td>\n",
       "    </tr>\n",
       "    <tr>\n",
       "      <th>10</th>\n",
       "      <td>-24.079539</td>\n",
       "      <td>-1.361803</td>\n",
       "      <td>jun B proto-oncogene</td>\n",
       "      <td>Mus musculus</td>\n",
       "      <td>tibialis anterior</td>\n",
       "      <td>OSD-105</td>\n",
       "    </tr>\n",
       "  </tbody>\n",
       "</table>\n",
       "</div>"
      ],
      "text/plain": [
       "    methylation_diff    log2fc  \\\n",
       "0          17.701717 -0.643865   \n",
       "1          11.834080  0.190048   \n",
       "2           6.466081 -0.342864   \n",
       "3           1.819836  0.265232   \n",
       "4          -1.691213  0.203576   \n",
       "5          -2.594896 -0.286396   \n",
       "6          -4.385965 -0.577865   \n",
       "7          -6.217617 -0.152480   \n",
       "8          -7.277940  0.403671   \n",
       "9         -14.498471  1.354894   \n",
       "10        -24.079539 -1.361803   \n",
       "\n",
       "                                              gene      organism  \\\n",
       "0              fibroblast growth factor receptor 3  Mus musculus   \n",
       "1              dystrophia myotonica-protein kinase  Mus musculus   \n",
       "2   progestin and adipoQ receptor family member IX  Mus musculus   \n",
       "3                         insulin degrading enzyme  Mus musculus   \n",
       "4                     NADH dehydrogenase subunit 2  Mus musculus   \n",
       "5   phosphate cytidylyltransferase 2, ethanolamine  Mus musculus   \n",
       "6                                docking protein 5  Mus musculus   \n",
       "7      2-aminoethanethiol (cysteamine) dioxygenase  Mus musculus   \n",
       "8   H19, imprinted maternally expressed transcript  Mus musculus   \n",
       "9                        transmembrane protein 254  Mus musculus   \n",
       "10                            jun B proto-oncogene  Mus musculus   \n",
       "\n",
       "              anatomy    study  \n",
       "0   tibialis anterior  OSD-105  \n",
       "1   tibialis anterior  OSD-105  \n",
       "2   tibialis anterior  OSD-105  \n",
       "3   tibialis anterior  OSD-105  \n",
       "4   tibialis anterior  OSD-105  \n",
       "5   tibialis anterior  OSD-105  \n",
       "6   tibialis anterior  OSD-105  \n",
       "7   tibialis anterior  OSD-105  \n",
       "8   tibialis anterior  OSD-105  \n",
       "9   tibialis anterior  OSD-105  \n",
       "10  tibialis anterior  OSD-105  "
      ]
     },
     "execution_count": 6,
     "metadata": {},
     "output_type": "execute_result"
    }
   ],
   "source": [
    "query = \"\"\"\n",
    "MATCH (s1:Study)-->(a1:Assay)-[m1]->(y:MethylationRegion)\n",
    "      <--(g:MGene)<-[m2]-(a2:Assay)<--(s2:Study)\n",
    "      \n",
    "WHERE s1 = s2 // within the same study\n",
    "  AND \"Ground Control\" IN a1.factors_1 // Ground Control\n",
    "  AND \"Space Flight\" IN a1.factors_2   // vs. Space Flight\n",
    "  AND \"Ground Control\" IN a2.factors_1\n",
    "  AND \"Space Flight\" IN a2.factors_2\n",
    "  AND y.in_promoter = true // Methylated in the promoter region\n",
    "  \n",
    "RETURN m1.methylation_diff AS methylation_diff, m2.log2fc AS log2fc, \n",
    "       g.name AS gene, s1.organism as organism, a1.material_name_1 AS anatomy, s1.identifier AS study\n",
    "ORDER BY methylation_diff DESC;\n",
    "\"\"\"\n",
    "graph.run(query).to_data_frame()"
   ]
  },
  {
   "cell_type": "code",
   "execution_count": 7,
   "id": "366f7a77-8adf-465c-aac6-b54bea578fbe",
   "metadata": {},
   "outputs": [
    {
     "data": {
      "text/html": [
       "<div>\n",
       "<style scoped>\n",
       "    .dataframe tbody tr th:only-of-type {\n",
       "        vertical-align: middle;\n",
       "    }\n",
       "\n",
       "    .dataframe tbody tr th {\n",
       "        vertical-align: top;\n",
       "    }\n",
       "\n",
       "    .dataframe thead th {\n",
       "        text-align: right;\n",
       "    }\n",
       "</style>\n",
       "<table border=\"1\" class=\"dataframe\">\n",
       "  <thead>\n",
       "    <tr style=\"text-align: right;\">\n",
       "      <th></th>\n",
       "      <th>study</th>\n",
       "      <th>title</th>\n",
       "      <th>mission</th>\n",
       "      <th>progam</th>\n",
       "      <th>start_date</th>\n",
       "      <th>end_date</th>\n",
       "    </tr>\n",
       "  </thead>\n",
       "  <tbody>\n",
       "    <tr>\n",
       "      <th>0</th>\n",
       "      <td>OSD-105</td>\n",
       "      <td>Rodent Research 1</td>\n",
       "      <td>SpaceX-4</td>\n",
       "      <td>International Space Station (ISS)</td>\n",
       "      <td>2014-09-21</td>\n",
       "      <td>2014-10-25</td>\n",
       "    </tr>\n",
       "  </tbody>\n",
       "</table>\n",
       "</div>"
      ],
      "text/plain": [
       "     study              title   mission                             progam  \\\n",
       "0  OSD-105  Rodent Research 1  SpaceX-4  International Space Station (ISS)   \n",
       "\n",
       "   start_date    end_date  \n",
       "0  2014-09-21  2014-10-25  "
      ]
     },
     "execution_count": 7,
     "metadata": {},
     "output_type": "execute_result"
    }
   ],
   "source": [
    "# Get some metadata about this study\n",
    "query = \"\"\"\n",
    "MATCH (m:Mission)-->(s:Study)\n",
    "WHERE s.identifier = 'OSD-105'\n",
    "RETURN s.identifier AS study, s.project_title AS title, m.name AS mission, \n",
    "       m.flight_program AS progam, m.start_date AS start_date, m.end_date AS end_date;\n",
    "\"\"\"\n",
    "graph.run(query).to_data_frame()"
   ]
  }
 ],
 "metadata": {
  "kernelspec": {
   "display_name": "Python 3 (ipykernel)",
   "language": "python",
   "name": "python3"
  },
  "language_info": {
   "codemirror_mode": {
    "name": "ipython",
    "version": 3
   },
   "file_extension": ".py",
   "mimetype": "text/x-python",
   "name": "python",
   "nbconvert_exporter": "python",
   "pygments_lexer": "ipython3",
   "version": "3.10.16"
  }
 },
 "nbformat": 4,
 "nbformat_minor": 5
}
