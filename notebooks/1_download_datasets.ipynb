{
 "cells": [
  {
   "cell_type": "markdown",
   "id": "c87af7a9-1fbe-46e5-b1c0-1bf0d1805572",
   "metadata": {},
   "source": [
    "# 📥 Download and Filter NASA GeneLab Omics Datasets\n",
    "\n",
    "This notebook automates the retrieval and pre‑processing of omics datasets from the NASA GeneLab Open Science Data Repository (OSDR) using the `genelab_utils` package. It supports both incremental and full updates, applies pre‑filters to reduce file size, and writes a manifest of downloaded files.\n",
    "\n",
    "Author: Peter W. Rose, UC San Diego (pwrose.ucsd@gmail.com)"
   ]
  },
  {
   "cell_type": "code",
   "execution_count": 1,
   "id": "04467fb0-bccd-4fc0-828a-72e803570fbb",
   "metadata": {},
   "outputs": [],
   "source": [
    "import pandas as pd\n",
    "import genelab_utils as gl"
   ]
  },
  {
   "cell_type": "code",
   "execution_count": 2,
   "id": "fdf654fa-9850-40ae-82da-1e2aea3f4bed",
   "metadata": {},
   "outputs": [],
   "source": [
    "MANIFEST_PATH = \"../data/manifest.csv\" # file to save dataset info"
   ]
  },
  {
   "cell_type": "markdown",
   "id": "51b1e455-092f-4bbd-9eff-dea78ee05165",
   "metadata": {},
   "source": [
    "## Incremental vs Full Update\n",
    "By default, this notebook runs an incremental update. It downloads and preprocesses any new datasets specified in the \"technology_types\" list below.\n",
    "\n",
    "If any datasets have been updated, set the \"reset\" variable to \"True\" to run a complete update.\n",
    "\n",
    "The downloaded datasets are saved in the \"datasets\" directory."
   ]
  },
  {
   "cell_type": "code",
   "execution_count": 3,
   "id": "61bae325-55d0-4432-9d39-29d7dd145fe4",
   "metadata": {},
   "outputs": [],
   "source": [
    "RESET = False # run incremental update\n",
    "# RESET = True # run a complete update to refresh datasets"
   ]
  },
  {
   "cell_type": "markdown",
   "id": "d6c436a4-c7b9-47f8-83bb-c6df79d35fa1",
   "metadata": {},
   "source": [
    "## Get a List of GeneLab processed Datasets"
   ]
  },
  {
   "cell_type": "code",
   "execution_count": 4,
   "id": "416d6c1c-ae91-47ff-a744-24cb2569b60e",
   "metadata": {},
   "outputs": [
    {
     "name": "stdout",
     "output_type": "stream",
     "text": [
      "https://visualization.osdr.nasa.gov/biodata/api/v2//query/metadata/?study.characteristics.organism.term%20accession%20number&investigation.study%20assays.study%20assay%20technology%20type&investigation.study%20assays.study%20assay%20measurement%20type&study.characteristics.material%20type&study.characteristics.material%20type.term%20accession%20number&file.category&file.subcategory\n"
     ]
    }
   ],
   "source": [
    "dataset_info = gl.get_processed_datasets()"
   ]
  },
  {
   "cell_type": "markdown",
   "id": "469988c7-26cf-401f-b376-b473eb54608f",
   "metadata": {},
   "source": [
    "## Filter by Study and Technology Type"
   ]
  },
  {
   "cell_type": "code",
   "execution_count": 5,
   "id": "bd8ac2d5-86d0-4bf1-9761-e0218e481add",
   "metadata": {},
   "outputs": [
    {
     "name": "stdout",
     "output_type": "stream",
     "text": [
      "206672    OSD-557\n",
      "206713    OSD-557\n",
      "206757    OSD-557\n",
      "208959    OSD-568\n",
      "209028    OSD-568\n",
      "209029    OSD-568\n",
      "230232    OSD-583\n",
      "245531    OSD-679\n",
      "246419    OSD-679\n",
      "246643    OSD-679\n",
      "247309    OSD-679\n",
      "249088    OSD-680\n",
      "Name: identifier, dtype: object\n"
     ]
    }
   ],
   "source": [
    "id_accession = [\"OSD-557\", \"OSD-568\", \"OSD-583\", \"OSD-679\", \"OSD-680\", \"OSD-681\",]\n",
    "\n",
    "technology_types = [\"Micro-Computed Tomography\", \n",
    "                    \"Immunostaining\",\n",
    "                    \"Microscopy\",\n",
    "                    \"Tonometry\",\n",
    "                    \"Ultrasonography\",\n",
    "                    \"Optical Coherence Tomography\",\n",
    "                    \"Magnetic Resonance Imaging\",\n",
    "                    \"Implanted Sensor Data\",\n",
    "                   ]\n",
    "\n",
    "                #[\"RNA Sequencing (RNA-Seq)\", \n",
    "                 #   \"DNA microarray\", \n",
    "                  #  \"Whole Genome Bisulfite Sequencing\",\n",
    "                   # \"Reduced-Representation Bisulfite Sequencing\",\n",
    "                   #]\n",
    "dataset_info = gl.filter_by_study(dataset_info, id_accession)\n",
    "dataset_info = gl.filter_by_technology_type(dataset_info, technology_types)\n",
    "dataset_info.head()\n",
    "print(dataset_info['identifier'])"
   ]
  },
  {
   "cell_type": "markdown",
   "id": "a8a48b7f-bbcb-4c28-8957-7b15c68a0b55",
   "metadata": {},
   "source": [
    "## Filter by Organism"
   ]
  },
  {
   "cell_type": "code",
   "execution_count": 6,
   "id": "683a759c-47c7-4127-823b-9823dbfb15c9",
   "metadata": {},
   "outputs": [
    {
     "name": "stdout",
     "output_type": "stream",
     "text": [
      "Available organisms: ['10090' '10116']\n"
     ]
    }
   ],
   "source": [
    "print(f\"Available organisms: {dataset_info['taxonomy'].unique()}\")"
   ]
  },
  {
   "cell_type": "code",
   "execution_count": 7,
   "id": "0eff7edc-26f6-42e2-8f5e-aafd102f606f",
   "metadata": {},
   "outputs": [],
   "source": [
    "taxids = {\"9606\": \"Homo sapiens\",\n",
    "          # -- Rodens -- \n",
    "          \"10090\": \"Mus musculus\",\n",
    "          \"10116\": \"Rattus norvegicus\",\n",
    "          # -- Fish --\n",
    "          \"7955\": \"Danio rerio\",\n",
    "          \"8090\": \"Oryzias latipes\",\n",
    "          # -- Nematoda --\n",
    "           \"6239\": \"Caenorhabditis elegans\",\n",
    "          # -- Insecta --\n",
    "           \"7227\": \"Drosophila melanogaster\",\n",
    "           \"63436\": \"Leptopilina heterotoma\",\n",
    "           \"63433\": \"Leptopilina boulardi\",\n",
    "          # -- Bacteria --\n",
    "          \"562\": \"Escherichia coli\",\n",
    "          \"287\": \"Pseudomonas aeruginosa\",\n",
    "          \"1423\": \"Bacillus subtilis\",\n",
    "          \"1781\": \"Mycobacterium marinum\",\n",
    "          \"148447\": \"Paraburkholderia phymatum\",\n",
    "          # -- Fungi --\n",
    "           \"4932\": \"Saccharomyces cerevisiae\",\n",
    "          # -- Plants --\n",
    "           \"3711\": \"Brassica rapa\",\n",
    "           \"15368\": \"Brachypodium distachyon\",\n",
    "           \"3702\": \"Arabidopsis thaliana\",\n",
    "         }\n",
    "          \n",
    "dataset_info = gl.filter_by_organism(dataset_info, taxids)"
   ]
  },
  {
   "cell_type": "code",
   "execution_count": 8,
   "id": "fc5c5776-0cd1-4ae6-9854-11b5cc69c68c",
   "metadata": {},
   "outputs": [
    {
     "name": "stdout",
     "output_type": "stream",
     "text": [
      "Filtered organisms: ['10090' '10116']\n"
     ]
    }
   ],
   "source": [
    "print(f\"Filtered organisms: {dataset_info['taxonomy'].unique()}\")"
   ]
  },
  {
   "cell_type": "code",
   "execution_count": 9,
   "id": "b4a84987-0b70-42c1-804c-b565f6ec7832",
   "metadata": {},
   "outputs": [],
   "source": [
    "#dataset_info = dataset_info[[\"identifier\", \"technology\", \"measurement\", \"assay_name\", \"taxonomy\", \"organism\", \"material\"]].copy()\n",
    "#dataset_info.drop_duplicates(inplace=True)\n",
    "#dataset_info.head()"
   ]
  },
  {
   "cell_type": "markdown",
   "id": "77f93bf5-e93d-43af-bff5-215f583f76b4",
   "metadata": {},
   "source": [
    "## Select Datasets to Download\n",
    "The map below specifies the technology type and a substring used to identify processed files. Processed files must contain this substring."
   ]
  },
  {
   "cell_type": "code",
   "execution_count": 10,
   "id": "79e4708f-8ca5-4070-9d37-04d3e1a6fe47",
   "metadata": {},
   "outputs": [],
   "source": [
    "file_types = {\"Micro-Computed Tomography\": \"TRANSFORMED\", \n",
    "                \"Immunostaining\": \"TRANSFORMED\",\n",
    "                \"Microscopy\": \"TRANSFORMED\",\n",
    "                \"Tonometry\": \"TRANSFORMED\",\n",
    "                \"Ultrasonography\": \"TRANSFORMED\",\n",
    "                \"Optical Coherence Tomography\": \"TRANSFORMED\",\n",
    "                \"Magnetic Resonance Imaging\": \"TRANSFORMED\",\n",
    "                \"Implanted Sensor Data\": \"TRANSFORMED\",}\n",
    "\n",
    "            #{\"DNA microarray\": \"differential_expression\",\n",
    "              #\"RNA Sequencing (RNA-Seq)\": \"differential_expression\",\n",
    "              #\"Whole Genome Bisulfite Sequencing\": \"differential_methylation_tiles\",\n",
    "              #\"Reduced-Representation Bisulfite Sequencing\": \"differential_methylation_tiles\",}\"\"\""
   ]
  },
  {
   "cell_type": "markdown",
   "id": "6dfaf802-2fa4-470b-aa64-6f928003d86a",
   "metadata": {},
   "source": [
    "#### Define pre-filters to reduce the file the essential data"
   ]
  },
  {
   "cell_type": "code",
   "execution_count": 11,
   "id": "c6f7cf1c-43cd-4ae1-9bad-942f586ea873",
   "metadata": {},
   "outputs": [],
   "source": [
    "#def differential_expression_filter(df, threshold=0.05):\n",
    " #   filtered_df = df[df['ENTREZID'].notna() & (df['ENTREZID'].astype(str) != '')]\n",
    "    # Keep only required columns\n",
    " #   filtered_df = filtered_df.filter(regex=r\"^(ENTREZID|GENENAME|Log2fc_|Adj\\.p\\.value_)\")\n",
    " #   adj_pval_cols = [col for col in filtered_df.columns if col.startswith(\"Adj.p.value_\")]\n",
    " #   filtered_df = filtered_df[filtered_df[adj_pval_cols].le(threshold).any(axis=1)]\n",
    "    # Explode rows with multiple genes\n",
    " #   if \"ENTREZID\" in filtered_df.columns:\n",
    " #       filtered_df[\"ENTREZID\"] = filtered_df[\"ENTREZID\"].astype(str)\n",
    " #       filtered_df[\"ENTREZID\"] = filtered_df[\"ENTREZID\"].apply(lambda x:x.split('|'))\n",
    " #       filtered_df = filtered_df.explode('ENTREZID')\n",
    " #       filtered_df[\"ENTREZID\"] = filtered_df[\"ENTREZID\"].str.strip()\n",
    " #   return filtered_df"
   ]
  },
  {
   "cell_type": "code",
   "execution_count": 12,
   "id": "38291b3b-1a23-4041-a91e-55a1a7d2292c",
   "metadata": {},
   "outputs": [],
   "source": [
    "#def differential_methylation_filter(df, threshold=0.05):\n",
    " #   filtered_df = df[df['ENTREZID'].notna() & (df['ENTREZID'].astype(str) != '')]\n",
    "    # Keep only required columns\n",
    " #   filtered_df = filtered_df.filter(regex=r\"^(ENTREZID|GENENAME|chr|start|end|dist.to.feature|prom|exon|intron|meth.diff_|qvalue_)\")\n",
    " #   qval_cols = [col for col in filtered_df.columns if col.startswith(\"qvalue_\")]\n",
    " #   filtered_df = filtered_df[filtered_df[qval_cols].le(threshold).any(axis=1)]\n",
    "     # Explode rows with multiple genes\n",
    " #   if \"ENTREZID\" in filtered_df.columns:\n",
    " #       filtered_df[\"ENTREZID\"] = filtered_df[\"ENTREZID\"].astype(str)\n",
    " #       filtered_df[\"ENTREZID\"] = filtered_df[\"ENTREZID\"].apply(lambda x:x.split('|'))\n",
    " #       filtered_df = filtered_df.explode('ENTREZID')\n",
    " #       filtered_df[\"ENTREZID\"] = filtered_df[\"ENTREZID\"].str.strip()\n",
    " #   return filtered_df"
   ]
  },
  {
   "cell_type": "code",
   "execution_count": 13,
   "id": "bcbcd778-598e-4dea-bc22-b46f072e8b9a",
   "metadata": {},
   "outputs": [],
   "source": [
    "def trivial_filter(df):\n",
    "    return df"
   ]
  },
  {
   "cell_type": "code",
   "execution_count": 14,
   "id": "1e9b6a95-76d4-454f-8b32-8ab4e3173c0e",
   "metadata": {},
   "outputs": [],
   "source": [
    "filters = {#\"differential_expression\": differential_expression_filter,\n",
    "           #\"differential_methylation_tiles\": differential_methylation_filter,\n",
    "           \"trivial_filter\": trivial_filter,}"
   ]
  },
  {
   "cell_type": "code",
   "execution_count": 17,
   "id": "4b9e1053-2d56-4f5f-bdc2-e7d8e3152b34",
   "metadata": {},
   "outputs": [
    {
     "name": "stdout",
     "output_type": "stream",
     "text": [
      "https://osdr.nasa.gov/geode-py/ws/studies/OSD-557/download?source=datamanager&file=LSDS-1_microCT_Overbey_microCT_TRANSFORMED.csv\n",
      "File already exist: OSD-557_LSDS-1_microCT_Overbey_microCT_TRANSFORMED.csv\n",
      "https://osdr.nasa.gov/geode-py/ws/studies/OSD-557/download?source=datamanager&file=LSDS-1_immunostaining_Overbey_HNE_RetinaLayer_TRANSFORMED.csv\n",
      "File already exist: OSD-557_LSDS-1_immunostaining_Overbey_HNE_RetinaLayer_TRANSFORMED.csv\n",
      "https://osdr.nasa.gov/geode-py/ws/studies/OSD-557/download?source=datamanager&file=LSDS-1_immunostaining_Overbey_HNE_PhotoreceptorLayer_TRANSFORMED.csv\n",
      "Downloading: OSD-557_LSDS-1_immunostaining_Overbey_HNE_PhotoreceptorLayer_TRANSFORMED.csv\n",
      "https://osdr.nasa.gov/geode-py/ws/studies/OSD-557/download?source=datamanager&file=LSDS-1_immunostaining_Overbey_PNA_TRANSFORMED.csv\n",
      "File already exist: OSD-557_LSDS-1_immunostaining_Overbey_PNA_TRANSFORMED.csv\n",
      "https://osdr.nasa.gov/geode-py/ws/studies/OSD-557/download?source=datamanager&file=LSDS-1_microCT_Overbey_microCT_TRANSFORMED.csv\n",
      "File already exist: OSD-557_LSDS-1_microCT_Overbey_microCT_TRANSFORMED.csv\n",
      "https://osdr.nasa.gov/geode-py/ws/studies/OSD-557/download?source=datamanager&file=LSDS-1_immunostaining_Overbey_HNE_RetinaLayer_TRANSFORMED.csv\n",
      "File already exist: OSD-557_LSDS-1_immunostaining_Overbey_HNE_RetinaLayer_TRANSFORMED.csv\n",
      "https://osdr.nasa.gov/geode-py/ws/studies/OSD-557/download?source=datamanager&file=LSDS-1_immunostaining_Overbey_HNE_PhotoreceptorLayer_TRANSFORMED.csv\n",
      "File already exist: OSD-557_LSDS-1_immunostaining_Overbey_HNE_PhotoreceptorLayer_TRANSFORMED.csv\n",
      "https://osdr.nasa.gov/geode-py/ws/studies/OSD-557/download?source=datamanager&file=LSDS-1_immunostaining_Overbey_PNA_TRANSFORMED.csv\n",
      "File already exist: OSD-557_LSDS-1_immunostaining_Overbey_PNA_TRANSFORMED.csv\n",
      "https://osdr.nasa.gov/geode-py/ws/studies/OSD-557/download?source=datamanager&file=LSDS-1_microCT_Overbey_microCT_TRANSFORMED.csv\n",
      "File already exist: OSD-557_LSDS-1_microCT_Overbey_microCT_TRANSFORMED.csv\n",
      "https://osdr.nasa.gov/geode-py/ws/studies/OSD-557/download?source=datamanager&file=LSDS-1_immunostaining_Overbey_HNE_RetinaLayer_TRANSFORMED.csv\n",
      "File already exist: OSD-557_LSDS-1_immunostaining_Overbey_HNE_RetinaLayer_TRANSFORMED.csv\n",
      "https://osdr.nasa.gov/geode-py/ws/studies/OSD-557/download?source=datamanager&file=LSDS-1_immunostaining_Overbey_HNE_PhotoreceptorLayer_TRANSFORMED.csv\n",
      "File already exist: OSD-557_LSDS-1_immunostaining_Overbey_HNE_PhotoreceptorLayer_TRANSFORMED.csv\n",
      "https://osdr.nasa.gov/geode-py/ws/studies/OSD-557/download?source=datamanager&file=LSDS-1_immunostaining_Overbey_PNA_TRANSFORMED.csv\n",
      "File already exist: OSD-557_LSDS-1_immunostaining_Overbey_PNA_TRANSFORMED.csv\n",
      "https://osdr.nasa.gov/geode-py/ws/studies/OSD-568/download?source=datamanager&file=LSDS-5_immunostaining_microscopy_TUNELtr_TRANSFORMED.csv\n",
      "File already exist: OSD-568_LSDS-5_immunostaining_microscopy_TUNELtr_TRANSFORMED.csv\n",
      "https://osdr.nasa.gov/geode-py/ws/studies/OSD-568/download?source=datamanager&file=LSDS-5_immunostaining_microscopy_PECAMtr_TRANSFORMED.csv\n",
      "File already exist: OSD-568_LSDS-5_immunostaining_microscopy_PECAMtr_TRANSFORMED.csv\n",
      "https://osdr.nasa.gov/geode-py/ws/studies/OSD-568/download?source=datamanager&file=LSDS-5_immunostaining_microscopy_Zo-1tr_TRANSFORMED.csv\n",
      "File already exist: OSD-568_LSDS-5_immunostaining_microscopy_Zo-1tr_TRANSFORMED.csv\n",
      "https://osdr.nasa.gov/geode-py/ws/studies/OSD-568/download?source=datamanager&file=LSDS-5_immunostaining_microscopy_TUNELtr_TRANSFORMED.csv\n",
      "File already exist: OSD-568_LSDS-5_immunostaining_microscopy_TUNELtr_TRANSFORMED.csv\n",
      "https://osdr.nasa.gov/geode-py/ws/studies/OSD-568/download?source=datamanager&file=LSDS-5_immunostaining_microscopy_PECAMtr_TRANSFORMED.csv\n",
      "File already exist: OSD-568_LSDS-5_immunostaining_microscopy_PECAMtr_TRANSFORMED.csv\n",
      "https://osdr.nasa.gov/geode-py/ws/studies/OSD-568/download?source=datamanager&file=LSDS-5_immunostaining_microscopy_Zo-1tr_TRANSFORMED.csv\n",
      "File already exist: OSD-568_LSDS-5_immunostaining_microscopy_Zo-1tr_TRANSFORMED.csv\n",
      "https://osdr.nasa.gov/geode-py/ws/studies/OSD-568/download?source=datamanager&file=LSDS-5_immunostaining_microscopy_TUNELtr_TRANSFORMED.csv\n",
      "File already exist: OSD-568_LSDS-5_immunostaining_microscopy_TUNELtr_TRANSFORMED.csv\n",
      "https://osdr.nasa.gov/geode-py/ws/studies/OSD-568/download?source=datamanager&file=LSDS-5_immunostaining_microscopy_PECAMtr_TRANSFORMED.csv\n",
      "File already exist: OSD-568_LSDS-5_immunostaining_microscopy_PECAMtr_TRANSFORMED.csv\n",
      "https://osdr.nasa.gov/geode-py/ws/studies/OSD-568/download?source=datamanager&file=LSDS-5_immunostaining_microscopy_Zo-1tr_TRANSFORMED.csv\n",
      "File already exist: OSD-568_LSDS-5_immunostaining_microscopy_Zo-1tr_TRANSFORMED.csv\n",
      "https://osdr.nasa.gov/geode-py/ws/studies/OSD-583/download?source=datamanager&file=LSDS-16_tonometry_maoTRANSFORMED.csv\n",
      "File already exist: OSD-583_LSDS-16_tonometry_maoTRANSFORMED.csv\n",
      "https://osdr.nasa.gov/geode-py/ws/studies/OSD-679/download?source=datamanager&file=LSDS-81_tonometry_Fuller_TonometryIOP_TRANSFORMED.csv\n",
      "File already exist: OSD-679_LSDS-81_tonometry_Fuller_TonometryIOP_TRANSFORMED.csv\n",
      "https://osdr.nasa.gov/geode-py/ws/studies/OSD-679/download?source=datamanager&file=LSDS-81_Ophthalmologic+Diagnostic+Technique_Fuller_OCT_TRANSFORMED.csv\n",
      "File already exist: OSD-679_LSDS-81_Ophthalmologic Diagnostic Technique_Fuller_OCT_TRANSFORMED.csv\n",
      "https://osdr.nasa.gov/geode-py/ws/studies/OSD-679/download?source=datamanager&file=LSDS-81_Tomography_Fuller_MRI_Eye_TRANSFORMED.csv\n",
      "File already exist: OSD-679_LSDS-81_Tomography_Fuller_MRI_Eye_TRANSFORMED.csv\n",
      "https://osdr.nasa.gov/geode-py/ws/studies/OSD-679/download?source=datamanager&file=LSDS-81_tonometry_Fuller_TonometryIOP_TRANSFORMED.csv\n",
      "File already exist: OSD-679_LSDS-81_tonometry_Fuller_TonometryIOP_TRANSFORMED.csv\n",
      "https://osdr.nasa.gov/geode-py/ws/studies/OSD-679/download?source=datamanager&file=LSDS-81_Ophthalmologic+Diagnostic+Technique_Fuller_OCT_TRANSFORMED.csv\n",
      "File already exist: OSD-679_LSDS-81_Ophthalmologic Diagnostic Technique_Fuller_OCT_TRANSFORMED.csv\n",
      "https://osdr.nasa.gov/geode-py/ws/studies/OSD-679/download?source=datamanager&file=LSDS-81_Tomography_Fuller_MRI_Eye_TRANSFORMED.csv\n",
      "File already exist: OSD-679_LSDS-81_Tomography_Fuller_MRI_Eye_TRANSFORMED.csv\n",
      "https://osdr.nasa.gov/geode-py/ws/studies/OSD-679/download?source=datamanager&file=LSDS-81_tonometry_Fuller_TonometryIOP_TRANSFORMED.csv\n",
      "File already exist: OSD-679_LSDS-81_tonometry_Fuller_TonometryIOP_TRANSFORMED.csv\n",
      "https://osdr.nasa.gov/geode-py/ws/studies/OSD-679/download?source=datamanager&file=LSDS-81_Ophthalmologic+Diagnostic+Technique_Fuller_OCT_TRANSFORMED.csv\n",
      "File already exist: OSD-679_LSDS-81_Ophthalmologic Diagnostic Technique_Fuller_OCT_TRANSFORMED.csv\n",
      "https://osdr.nasa.gov/geode-py/ws/studies/OSD-679/download?source=datamanager&file=LSDS-81_Tomography_Fuller_MRI_Eye_TRANSFORMED.csv\n",
      "File already exist: OSD-679_LSDS-81_Tomography_Fuller_MRI_Eye_TRANSFORMED.csv\n",
      "https://osdr.nasa.gov/geode-py/ws/studies/OSD-679/download?source=datamanager&file=LSDS-81_tonometry_Fuller_TonometryIOP_TRANSFORMED.csv\n",
      "File already exist: OSD-679_LSDS-81_tonometry_Fuller_TonometryIOP_TRANSFORMED.csv\n",
      "https://osdr.nasa.gov/geode-py/ws/studies/OSD-679/download?source=datamanager&file=LSDS-81_Ophthalmologic+Diagnostic+Technique_Fuller_OCT_TRANSFORMED.csv\n",
      "File already exist: OSD-679_LSDS-81_Ophthalmologic Diagnostic Technique_Fuller_OCT_TRANSFORMED.csv\n",
      "https://osdr.nasa.gov/geode-py/ws/studies/OSD-679/download?source=datamanager&file=LSDS-81_Tomography_Fuller_MRI_Eye_TRANSFORMED.csv\n",
      "File already exist: OSD-679_LSDS-81_Tomography_Fuller_MRI_Eye_TRANSFORMED.csv\n",
      "https://osdr.nasa.gov/geode-py/ws/studies/OSD-680/download?source=datamanager&file=LSDS-82_Tomography_Fuller_MRI_OpticNerve_TRANSFORMED.csv\n",
      "File already exist: OSD-680_LSDS-82_Tomography_Fuller_MRI_OpticNerve_TRANSFORMED.csv\n"
     ]
    }
   ],
   "source": [
    "manifest = gl.download_data_files(dataset_info, file_types, filters, reset=RESET)\n",
    "manifest.to_csv(MANIFEST_PATH, index=False)"
   ]
  },
  {
   "cell_type": "code",
   "execution_count": 16,
   "id": "3071e03f-d651-4f3b-a069-981785a53fbc",
   "metadata": {},
   "outputs": [
    {
     "data": {
      "text/html": [
       "<div>\n",
       "<style scoped>\n",
       "    .dataframe tbody tr th:only-of-type {\n",
       "        vertical-align: middle;\n",
       "    }\n",
       "\n",
       "    .dataframe tbody tr th {\n",
       "        vertical-align: top;\n",
       "    }\n",
       "\n",
       "    .dataframe thead th {\n",
       "        text-align: right;\n",
       "    }\n",
       "</style>\n",
       "<table border=\"1\" class=\"dataframe\">\n",
       "  <thead>\n",
       "    <tr style=\"text-align: right;\">\n",
       "      <th></th>\n",
       "      <th>identifier</th>\n",
       "      <th>assay_name</th>\n",
       "      <th>sample_name</th>\n",
       "      <th>measurement</th>\n",
       "      <th>technology</th>\n",
       "      <th>material</th>\n",
       "      <th>study.characteristics.material type.term accession number</th>\n",
       "      <th>study.characteristics.organism.term accession number</th>\n",
       "      <th>file.category</th>\n",
       "      <th>file.subcategory</th>\n",
       "      <th>taxonomy</th>\n",
       "      <th>organism</th>\n",
       "      <th>filename</th>\n",
       "      <th>url</th>\n",
       "    </tr>\n",
       "  </thead>\n",
       "  <tbody>\n",
       "    <tr>\n",
       "      <th>206672</th>\n",
       "      <td>OSD-557</td>\n",
       "      <td>OSD-557_molecular-cellular-imaging_immunostain...</td>\n",
       "      <td>GC15</td>\n",
       "      <td>Molecular Cellular Imaging</td>\n",
       "      <td>Immunostaining</td>\n",
       "      <td>Left eye</td>\n",
       "      <td>http://purl.org/sig/ont/fma/fma54450</td>\n",
       "      <td>http://purl.bioontology.org/ontology/NCBITAXON...</td>\n",
       "      <td>Immunostaining</td>\n",
       "      <td>Tabular Result Files</td>\n",
       "      <td>10090</td>\n",
       "      <td>Mus musculus</td>\n",
       "      <td>OSD-557_LSDS-1_microCT_Overbey_microCT_TRANSFO...</td>\n",
       "      <td>https://osdr.nasa.gov/geode-py/ws/studies/OSD-...</td>\n",
       "    </tr>\n",
       "    <tr>\n",
       "      <th>206672</th>\n",
       "      <td>OSD-557</td>\n",
       "      <td>OSD-557_molecular-cellular-imaging_immunostain...</td>\n",
       "      <td>GC15</td>\n",
       "      <td>Molecular Cellular Imaging</td>\n",
       "      <td>Immunostaining</td>\n",
       "      <td>Left eye</td>\n",
       "      <td>http://purl.org/sig/ont/fma/fma54450</td>\n",
       "      <td>http://purl.bioontology.org/ontology/NCBITAXON...</td>\n",
       "      <td>Immunostaining</td>\n",
       "      <td>Tabular Result Files</td>\n",
       "      <td>10090</td>\n",
       "      <td>Mus musculus</td>\n",
       "      <td>OSD-557_LSDS-1_immunostaining_Overbey_HNE_Reti...</td>\n",
       "      <td>https://osdr.nasa.gov/geode-py/ws/studies/OSD-...</td>\n",
       "    </tr>\n",
       "    <tr>\n",
       "      <th>206672</th>\n",
       "      <td>OSD-557</td>\n",
       "      <td>OSD-557_molecular-cellular-imaging_immunostain...</td>\n",
       "      <td>GC15</td>\n",
       "      <td>Molecular Cellular Imaging</td>\n",
       "      <td>Immunostaining</td>\n",
       "      <td>Left eye</td>\n",
       "      <td>http://purl.org/sig/ont/fma/fma54450</td>\n",
       "      <td>http://purl.bioontology.org/ontology/NCBITAXON...</td>\n",
       "      <td>Immunostaining</td>\n",
       "      <td>Tabular Result Files</td>\n",
       "      <td>10090</td>\n",
       "      <td>Mus musculus</td>\n",
       "      <td>OSD-557_LSDS-1_immunostaining_Overbey_HNE_Phot...</td>\n",
       "      <td>https://osdr.nasa.gov/geode-py/ws/studies/OSD-...</td>\n",
       "    </tr>\n",
       "    <tr>\n",
       "      <th>206672</th>\n",
       "      <td>OSD-557</td>\n",
       "      <td>OSD-557_molecular-cellular-imaging_immunostain...</td>\n",
       "      <td>GC15</td>\n",
       "      <td>Molecular Cellular Imaging</td>\n",
       "      <td>Immunostaining</td>\n",
       "      <td>Left eye</td>\n",
       "      <td>http://purl.org/sig/ont/fma/fma54450</td>\n",
       "      <td>http://purl.bioontology.org/ontology/NCBITAXON...</td>\n",
       "      <td>Immunostaining</td>\n",
       "      <td>Tabular Result Files</td>\n",
       "      <td>10090</td>\n",
       "      <td>Mus musculus</td>\n",
       "      <td>OSD-557_LSDS-1_immunostaining_Overbey_PNA_TRAN...</td>\n",
       "      <td>https://osdr.nasa.gov/geode-py/ws/studies/OSD-...</td>\n",
       "    </tr>\n",
       "    <tr>\n",
       "      <th>206713</th>\n",
       "      <td>OSD-557</td>\n",
       "      <td>OSD-557_molecular-cellular-imaging_immunostain...</td>\n",
       "      <td>GC15</td>\n",
       "      <td>Molecular Cellular Imaging</td>\n",
       "      <td>Immunostaining</td>\n",
       "      <td>Left eye</td>\n",
       "      <td>http://purl.org/sig/ont/fma/fma54450</td>\n",
       "      <td>http://purl.bioontology.org/ontology/NCBITAXON...</td>\n",
       "      <td>Immunostaining</td>\n",
       "      <td>Tabular Result Files</td>\n",
       "      <td>10090</td>\n",
       "      <td>Mus musculus</td>\n",
       "      <td>OSD-557_LSDS-1_microCT_Overbey_microCT_TRANSFO...</td>\n",
       "      <td>https://osdr.nasa.gov/geode-py/ws/studies/OSD-...</td>\n",
       "    </tr>\n",
       "  </tbody>\n",
       "</table>\n",
       "</div>"
      ],
      "text/plain": [
       "       identifier                                         assay_name  \\\n",
       "206672    OSD-557  OSD-557_molecular-cellular-imaging_immunostain...   \n",
       "206672    OSD-557  OSD-557_molecular-cellular-imaging_immunostain...   \n",
       "206672    OSD-557  OSD-557_molecular-cellular-imaging_immunostain...   \n",
       "206672    OSD-557  OSD-557_molecular-cellular-imaging_immunostain...   \n",
       "206713    OSD-557  OSD-557_molecular-cellular-imaging_immunostain...   \n",
       "\n",
       "       sample_name                 measurement      technology  material  \\\n",
       "206672        GC15  Molecular Cellular Imaging  Immunostaining  Left eye   \n",
       "206672        GC15  Molecular Cellular Imaging  Immunostaining  Left eye   \n",
       "206672        GC15  Molecular Cellular Imaging  Immunostaining  Left eye   \n",
       "206672        GC15  Molecular Cellular Imaging  Immunostaining  Left eye   \n",
       "206713        GC15  Molecular Cellular Imaging  Immunostaining  Left eye   \n",
       "\n",
       "       study.characteristics.material type.term accession number  \\\n",
       "206672               http://purl.org/sig/ont/fma/fma54450          \n",
       "206672               http://purl.org/sig/ont/fma/fma54450          \n",
       "206672               http://purl.org/sig/ont/fma/fma54450          \n",
       "206672               http://purl.org/sig/ont/fma/fma54450          \n",
       "206713               http://purl.org/sig/ont/fma/fma54450          \n",
       "\n",
       "       study.characteristics.organism.term accession number   file.category  \\\n",
       "206672  http://purl.bioontology.org/ontology/NCBITAXON...    Immunostaining   \n",
       "206672  http://purl.bioontology.org/ontology/NCBITAXON...    Immunostaining   \n",
       "206672  http://purl.bioontology.org/ontology/NCBITAXON...    Immunostaining   \n",
       "206672  http://purl.bioontology.org/ontology/NCBITAXON...    Immunostaining   \n",
       "206713  http://purl.bioontology.org/ontology/NCBITAXON...    Immunostaining   \n",
       "\n",
       "            file.subcategory taxonomy      organism  \\\n",
       "206672  Tabular Result Files    10090  Mus musculus   \n",
       "206672  Tabular Result Files    10090  Mus musculus   \n",
       "206672  Tabular Result Files    10090  Mus musculus   \n",
       "206672  Tabular Result Files    10090  Mus musculus   \n",
       "206713  Tabular Result Files    10090  Mus musculus   \n",
       "\n",
       "                                                 filename  \\\n",
       "206672  OSD-557_LSDS-1_microCT_Overbey_microCT_TRANSFO...   \n",
       "206672  OSD-557_LSDS-1_immunostaining_Overbey_HNE_Reti...   \n",
       "206672  OSD-557_LSDS-1_immunostaining_Overbey_HNE_Phot...   \n",
       "206672  OSD-557_LSDS-1_immunostaining_Overbey_PNA_TRAN...   \n",
       "206713  OSD-557_LSDS-1_microCT_Overbey_microCT_TRANSFO...   \n",
       "\n",
       "                                                      url  \n",
       "206672  https://osdr.nasa.gov/geode-py/ws/studies/OSD-...  \n",
       "206672  https://osdr.nasa.gov/geode-py/ws/studies/OSD-...  \n",
       "206672  https://osdr.nasa.gov/geode-py/ws/studies/OSD-...  \n",
       "206672  https://osdr.nasa.gov/geode-py/ws/studies/OSD-...  \n",
       "206713  https://osdr.nasa.gov/geode-py/ws/studies/OSD-...  "
      ]
     },
     "execution_count": 16,
     "metadata": {},
     "output_type": "execute_result"
    }
   ],
   "source": [
    "manifest.head()"
   ]
  }
 ],
 "metadata": {
  "kernelspec": {
   "display_name": "Python 3 (ipykernel)",
   "language": "python",
   "name": "python3"
  },
  "language_info": {
   "codemirror_mode": {
    "name": "ipython",
    "version": 3
   },
   "file_extension": ".py",
   "mimetype": "text/x-python",
   "name": "python",
   "nbconvert_exporter": "python",
   "pygments_lexer": "ipython3",
   "version": "3.10.17"
  }
 },
 "nbformat": 4,
 "nbformat_minor": 5
}
