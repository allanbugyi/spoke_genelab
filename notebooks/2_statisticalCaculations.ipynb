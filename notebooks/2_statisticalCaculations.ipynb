{
 "cells": [
  {
   "cell_type": "markdown",
   "id": "eefaa799-e791-45c9-82d9-041246df24f1",
   "metadata": {},
   "source": [
    "## Calculations over sample's measurements according to Study, Assay, and Groups"
   ]
  },
  {
   "cell_type": "markdown",
   "id": "f562b7d8-0f73-49f5-9ed5-c99ddd934eef",
   "metadata": {},
   "source": [
    "Processing of transformed data from Studies according to Assays, taking into consideration groupings by the combination of Factors. Average is obtained for each group of samples' measurements and then a comparison of percentage difference against each other."
   ]
  },
  {
   "cell_type": "markdown",
   "id": "f630526d-3596-4940-8d33-11b87b431a2b",
   "metadata": {},
   "source": [
    "## Compiling metadata for group calculations\n",
    "Script modified from:\n",
    "https://github.com/asaravia-butler/KnowHax2025_NASA-SPOKE"
   ]
  },
  {
   "cell_type": "code",
   "execution_count": 1,
   "id": "b5d872bb-5520-4441-8ce6-c66e8527a6ea",
   "metadata": {},
   "outputs": [
    {
     "name": "stdout",
     "output_type": "stream",
     "text": [
      "Requested metadata from: https://visualization.osdr.nasa.gov/biodata/api/v2/dataset/OSD-557/\n",
      "Requested sample table from: https://visualization.osdr.nasa.gov/biodata/api/v2/query/metadata/?id.accession=OSD-557&study.factor+value.Spaceflight\n",
      "4 unique groups = 6 pairwise combinations\n",
      "Requested metadata from: https://visualization.osdr.nasa.gov/biodata/api/v2/dataset/OSD-568/\n",
      "Requested sample table from: https://visualization.osdr.nasa.gov/biodata/api/v2/query/metadata/?id.accession=OSD-568&study.factor+value.Spaceflight\n",
      "4 unique groups = 6 pairwise combinations\n",
      "Requested metadata from: https://visualization.osdr.nasa.gov/biodata/api/v2/dataset/OSD-583/\n",
      "Requested sample table from: https://visualization.osdr.nasa.gov/biodata/api/v2/query/metadata/?id.accession=OSD-583&study.factor+value.Spaceflight\n",
      "5 unique groups = 10 pairwise combinations\n",
      "Requested metadata from: https://visualization.osdr.nasa.gov/biodata/api/v2/dataset/OSD-679/\n",
      "Requested sample table from: https://visualization.osdr.nasa.gov/biodata/api/v2/query/metadata/?id.accession=OSD-679&study.factor+value.Age&study.factor+value.Sex&study.factor+value.Hindlimb+Unloading&study.factor+value.Hindlimb+Unloading+Duration&study.factor+value.Hindlimb+Reloading+Duration&study.factor+value.Carbon+Dioxide+Treatment\n",
      "35 unique groups = 595 pairwise combinations\n",
      "Requested metadata from: https://visualization.osdr.nasa.gov/biodata/api/v2/dataset/OSD-680/\n",
      "Requested sample table from: https://visualization.osdr.nasa.gov/biodata/api/v2/query/metadata/?id.accession=OSD-680&study.factor+value.Age&study.factor+value.Sex&study.factor+value.Hindlimb+Unloading\n",
      "6 unique groups = 15 pairwise combinations\n",
      "Requested metadata from: https://visualization.osdr.nasa.gov/biodata/api/v2/dataset/OSD-681/\n",
      "Requested sample table from: https://visualization.osdr.nasa.gov/biodata/api/v2/query/metadata/?id.accession=OSD-681&study.factor+value.Age&study.factor+value.Sex&study.factor+value.Hindlimb+Unloading&study.factor+value.Carbon+Dioxide+Treatment\n",
      "8 unique groups = 28 pairwise combinations\n"
     ]
    }
   ],
   "source": [
    "osd_accession = [\"OSD-557\", \"OSD-568\", \"OSD-583\", \"OSD-679\", \"OSD-680\", \"OSD-681\",]\n",
    "\n",
    "import save_metadata as svm\n",
    "\n",
    "for accession in osd_accession: svm.sampleToGroupMappingAndGroupToGroupMetadata(accession)"
   ]
  },
  {
   "cell_type": "markdown",
   "id": "5e20d0f8-d680-4ccc-a97f-b0d75d708721",
   "metadata": {},
   "source": [
    "## Samples averaging by group"
   ]
  },
  {
   "cell_type": "code",
   "execution_count": 2,
   "id": "97408fc9-9f7b-410d-98c6-b69ed014005a",
   "metadata": {},
   "outputs": [],
   "source": [
    "METADATA_DIR = \"../data/metadata\"\n",
    "DATA_DIR = \"../data\""
   ]
  },
  {
   "cell_type": "markdown",
   "id": "814a967b-ace6-4ad8-94f1-223a77269db7",
   "metadata": {},
   "source": [
    "## Micro-CT"
   ]
  },
  {
   "cell_type": "code",
   "execution_count": 3,
   "id": "0a90de3f-0bac-4eb9-8aec-282ce86949a9",
   "metadata": {},
   "outputs": [],
   "source": [
    "microCT_accessions = [\"557\"] #Add here to this list the accessions numbers of microCT studies for analysis"
   ]
  },
  {
   "cell_type": "code",
   "execution_count": 4,
   "id": "e15fb921-f491-426a-a92e-cc3d80dd3a6c",
   "metadata": {},
   "outputs": [
    {
     "name": "stdout",
     "output_type": "stream",
     "text": [
      "Averages: \n",
      "                                                 0                 1  \\\n",
      "Groups                            Cohort Control 1  Cohort Control 2   \n",
      "sagittal_anteroposterior_length              1.766               0.0   \n",
      "sagittal_superoinferior_length               2.037               0.0   \n",
      "sagittal_retina_thickness                  0.10825               0.0   \n",
      "sagittal_pigment_layer_thickness             0.057               0.0   \n",
      "sagittal_choroid_thickness                  0.0545               0.0   \n",
      "sagittal_sclera_thickness                    0.081               0.0   \n",
      "axial_anteroposterior_length               1.72675               0.0   \n",
      "axial_superoinferior_length                1.98675               0.0   \n",
      "axial_retina_thickness                       0.108               0.0   \n",
      "axial_pigment_layer_thickness               0.0535               0.0   \n",
      "axial_choroid_thickness                     0.0465               0.0   \n",
      "axial_sclera_thickness                     0.06725               0.0   \n",
      "\n",
      "                                               2             3  \n",
      "Groups                            Ground Control  Space Flight  \n",
      "sagittal_anteroposterior_length          1.79425       1.75425  \n",
      "sagittal_superoinferior_length           2.02325       2.04375  \n",
      "sagittal_retina_thickness                 0.1315         0.089  \n",
      "sagittal_pigment_layer_thickness         0.05625         0.044  \n",
      "sagittal_choroid_thickness                0.0505       0.03625  \n",
      "sagittal_sclera_thickness                  0.086       0.05425  \n",
      "axial_anteroposterior_length             1.81075       1.75025  \n",
      "axial_superoinferior_length              2.04375       1.96975  \n",
      "axial_retina_thickness                   0.11325       0.11375  \n",
      "axial_pigment_layer_thickness              0.054       0.05375  \n",
      "axial_choroid_thickness                  0.04875       0.03825  \n",
      "axial_sclera_thickness                   0.07675       0.06525  \n"
     ]
    }
   ],
   "source": [
    "import pandas as pd\n",
    "import subprocess as sp\n",
    "import numpy as np\n",
    "import itertools\n",
    "\n",
    "#python warnings notifications disabling\n",
    "import warnings\n",
    "warnings.filterwarnings('ignore')\n",
    "\n",
    "microCTDataSet = {} #Transformed data will be loaded into this dictionary. \n",
    "microCTSampleGroupMapping = {} #Dictionary for holding metadata/ 'OSD-<###>_SampleTable.csv' content\n",
    "microCTGroupsContrast = {} #\n",
    "\n",
    "microCTDataSet_processed = {} #This dictionary holds all the processed data, i.e. results, calculated from the data. Check for results here!\n",
    "\n",
    "for accession in microCT_accessions:\n",
    "    try:\n",
    "        #Creating a dictionary for each study/accession for checking to which group a sample belongs to\n",
    "        sampleGroupMap_df = pd.read_csv(METADATA_DIR +\"/\"+ f\"OSD-{accession}_SampleTable.csv\").groupby(\"Treatment Group\").agg(list)\n",
    "        microCTSampleGroupMapping[accession] = sampleGroupMap_df[\"Sample Name\"].to_dict()\n",
    "        \n",
    "        assaysList = sp.check_output(\"ls \" + DATA_DIR, shell=True).split()\n",
    "    \n",
    "        if len(assaysList) == 0: continue\n",
    "        \n",
    "        microCTAssays = [assay.decode('utf-8') for assay in assaysList if \"microct\" in str(assay).lower()]\n",
    "    \n",
    "        filesList = list()\n",
    "        for mctAssay in  microCTAssays:\n",
    "            filesList.append(DATA_DIR +\"/\"+ mctAssay)\n",
    "    \n",
    "        #Reading all files pertaining to the same study/accession about MCT and creating a dictionary entry for it\n",
    "        for i in range(len(filesList)):\n",
    "            microCTData_df = pd.read_csv(filesList[i])\n",
    "            microCTData_df.head()\n",
    "            if accession is not microCTDataSet.keys(): microCTDataSet[accession] = []\n",
    "            microCTDataSet[accession].append(microCTData_df)\n",
    "        \n",
    "        #Going over all the assays to calculate for each of their measurements averages according to group belonging\n",
    "        for assay_df in microCTDataSet[accession]:\n",
    "            #Creating a data frame to hold all the averaged measurements for each group\n",
    "            averaged_df =  pd.DataFrame(columns=list(assay_df.columns.insert(0, 'Groups')))\n",
    "            averaged_df[\"Groups\"] = microCTSampleGroupMapping[accession].keys();\n",
    "            averaged_df = averaged_df[averaged_df.columns.drop(list(averaged_df.filter(regex='unit*')))]\n",
    "            averaged_df = averaged_df[averaged_df.columns.drop('Sample Name')]\n",
    "            averaged_df = averaged_df.fillna(0)\n",
    "            #print(averaged_df)\n",
    "    \n",
    "            #Going over invidiual sample measurements for calculation of averages\n",
    "            samplesInTheAssay = list() #not all Samples in the Study are present in a particular Assay, otherwise we could simply use microCTSampleGroupMapping dict \n",
    "            assay_df = assay_df.fillna(0)     \n",
    "            for measurement_column in assay_df.columns[1:].drop(list(assay_df.filter(regex='unit*'))):\n",
    "                #Finding to which group a sample belongs to\n",
    "                for i in range(len(assay_df[measurement_column])):\n",
    "                    for group in microCTSampleGroupMapping[accession].keys():\n",
    "                        if assay_df['Sample Name'].iloc[i] in microCTSampleGroupMapping[accession][group]:\n",
    "                            samplesInTheAssay.append(assay_df['Sample Name'].iloc[i])\n",
    "                            #Summing up all the values for the same measurement which belong to the same group\n",
    "                            averaged_df[measurement_column][list(averaged_df['Groups']).index(group)] += assay_df[measurement_column].iloc[i]\n",
    "    \n",
    "            #Checking which samples where present in this particular Assay\n",
    "            samplesGroupMapping4Assay = {} #this is a sub-dictionary from 'microCTSampleGroupMapping' dict\n",
    "            samplesInTheAssay = set(samplesInTheAssay)\n",
    "            for sample in samplesInTheAssay:\n",
    "                for group in microCTSampleGroupMapping[accession].keys():\n",
    "                    if sample in microCTSampleGroupMapping[accession][group]:\n",
    "                        if group not in samplesGroupMapping4Assay.keys(): samplesGroupMapping4Assay[group] = []\n",
    "                        samplesGroupMapping4Assay[group].append(sample)\n",
    "            \n",
    "            #Applying column-wise division by each group size (number of samples in each group)\n",
    "            averaged_df_T = averaged_df.T\n",
    "            for i in range(0,4):\n",
    "                #print(averaged_df_T[i][1:])\n",
    "                if averaged_df_T[i][0] in samplesGroupMapping4Assay.keys(): #Only calculating averages for groupings that exist in the Assay (groups in Assay is a subgroup of groups in Study)\n",
    "                    averaged_df_T[i][1:] = averaged_df_T[i][1:]/(len(samplesGroupMapping4Assay[averaged_df_T[i][0]]))\n",
    "                    #print(samplesGroupMapping4Assay[averaged_df_T[i][0]])\n",
    "                #print(averaged_df_T[i][1:])\n",
    "    \n",
    "            if accession is not microCTDataSet_processed.keys(): microCTDataSet_processed[accession] = []\n",
    "            microCTDataSet_processed[accession].append(averaged_df_T)\n",
    "            #print(averaged_df_T) #Sample averages by Group data frame \n",
    "\n",
    "        #Creating contrast tables for Group vs Group comparisons according to assay\n",
    "        groupContrastCombinations = list(itertools.combinations(microCTSampleGroupMapping[accession], 2))\n",
    "        contrasts_columns = [' vs '.join(x) for x in groupContrastCombinations]\n",
    "        contrasts_columns.insert(0, 'Averages')\n",
    "        contrast_dict = {}\n",
    "        for i in range(len(contrasts_columns)):\n",
    "            if i == 0 :contrast_dict[contrasts_columns[i]] = microCTDataSet_processed[accession][0].index.to_list()[1:]\n",
    "            else: contrast_dict[contrasts_columns[i]] = [0]*len(microCTDataSet_processed[accession][0].index.to_list()[1:])\n",
    "        \n",
    "        contrasts_df = pd.DataFrame(contrast_dict)\n",
    "        averages_df = microCTDataSet_processed[accession][0] #Need to improve this in case there are more assays for the same study\n",
    "        for column in list(contrasts_df.columns)[1:]:\n",
    "            groupsInComparison = column.split(' vs ')\n",
    "            #TO DO: Need to fix average data frame headers\n",
    "            #contrasts_df[column] = abs(averages_df[aux1]-averages_df[aux2]) #This is where percentage difference calculation should happen. Had problem indexing data frame\n",
    "        #print(contrasts_df)\n",
    "    except IOError as e:\n",
    "            print(f\"Failed to read file: {str(e)}\")\n",
    "\n",
    "print(\"Averages: \")\n",
    "print(microCTDataSet_processed['557'][0]) #There is only one Assay in this only Study (557) of MicroCT Technology, in this case. In case of more assays, iterate through the list of averaged grouped measurements by changing the square brackets index accordingly: [0...<assay #>]\n",
    "\n",
    "\n",
    "\n",
    "\n",
    "\n"
   ]
  },
  {
   "cell_type": "code",
   "execution_count": null,
   "id": "199f9087-9ed0-45b9-8e79-34d79ef0f683",
   "metadata": {},
   "outputs": [],
   "source": []
  }
 ],
 "metadata": {
  "kernelspec": {
   "display_name": "Python 3 (ipykernel)",
   "language": "python",
   "name": "python3"
  },
  "language_info": {
   "codemirror_mode": {
    "name": "ipython",
    "version": 3
   },
   "file_extension": ".py",
   "mimetype": "text/x-python",
   "name": "python",
   "nbconvert_exporter": "python",
   "pygments_lexer": "ipython3",
   "version": "3.10.17"
  }
 },
 "nbformat": 4,
 "nbformat_minor": 5
}
