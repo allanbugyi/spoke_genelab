{
 "cells": [
  {
   "cell_type": "code",
   "execution_count": null,
   "id": "b5d872bb-5520-4441-8ce6-c66e8527a6ea",
   "metadata": {},
   "outputs": [],
   "source": [
    "\n",
    "osd_accession = [\"OSD-557\", \"OSD-568\", \"OSD-583\", \"OSD-679\", \"OSD-680\", \"OSD-681\",]\n",
    "\n",
    "import save_metadata as svm\n",
    "\n",
    "for accession in osd_accession: svm.sampleToGroupMappingAndGroupToGroupMetadata(accession)"
   ]
  }
 ],
 "metadata": {
  "kernelspec": {
   "display_name": "Python 3 (ipykernel)",
   "language": "python",
   "name": "python3"
  },
  "language_info": {
   "codemirror_mode": {
    "name": "ipython",
    "version": 3
   },
   "file_extension": ".py",
   "mimetype": "text/x-python",
   "name": "python",
   "nbconvert_exporter": "python",
   "pygments_lexer": "ipython3",
   "version": "3.10.17"
  }
 },
 "nbformat": 4,
 "nbformat_minor": 5
}
